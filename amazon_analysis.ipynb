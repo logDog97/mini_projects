{
 "cells": [
  {
   "cell_type": "code",
   "execution_count": 29,
   "metadata": {},
   "outputs": [],
   "source": [
    "import pandas as pd\n",
    "import nltk\n",
    "import matplotlib.pyplot as plt\n",
    "import numpy as np"
   ]
  },
  {
   "cell_type": "markdown",
   "metadata": {},
   "source": [
    "## Import the data and recognise structure!"
   ]
  },
  {
   "cell_type": "code",
   "execution_count": 30,
   "metadata": {},
   "outputs": [
    {
     "data": {
      "text/html": [
       "<div>\n",
       "<style scoped>\n",
       "    .dataframe tbody tr th:only-of-type {\n",
       "        vertical-align: middle;\n",
       "    }\n",
       "\n",
       "    .dataframe tbody tr th {\n",
       "        vertical-align: top;\n",
       "    }\n",
       "\n",
       "    .dataframe thead th {\n",
       "        text-align: right;\n",
       "    }\n",
       "</style>\n",
       "<table border=\"1\" class=\"dataframe\">\n",
       "  <thead>\n",
       "    <tr style=\"text-align: right;\">\n",
       "      <th></th>\n",
       "      <th>Product Name</th>\n",
       "      <th>Brand Name</th>\n",
       "      <th>Price</th>\n",
       "      <th>Rating</th>\n",
       "      <th>Reviews</th>\n",
       "      <th>Review Votes</th>\n",
       "    </tr>\n",
       "  </thead>\n",
       "  <tbody>\n",
       "    <tr>\n",
       "      <th>0</th>\n",
       "      <td>\"CLEAR CLEAN ESN\" Sprint EPIC 4G Galaxy SPH-D7...</td>\n",
       "      <td>Samsung</td>\n",
       "      <td>199.99</td>\n",
       "      <td>5</td>\n",
       "      <td>I feel so LUCKY to have found this used (phone...</td>\n",
       "      <td>1.0</td>\n",
       "    </tr>\n",
       "    <tr>\n",
       "      <th>1</th>\n",
       "      <td>\"CLEAR CLEAN ESN\" Sprint EPIC 4G Galaxy SPH-D7...</td>\n",
       "      <td>Samsung</td>\n",
       "      <td>199.99</td>\n",
       "      <td>4</td>\n",
       "      <td>nice phone, nice up grade from my pantach revu...</td>\n",
       "      <td>0.0</td>\n",
       "    </tr>\n",
       "    <tr>\n",
       "      <th>2</th>\n",
       "      <td>\"CLEAR CLEAN ESN\" Sprint EPIC 4G Galaxy SPH-D7...</td>\n",
       "      <td>Samsung</td>\n",
       "      <td>199.99</td>\n",
       "      <td>5</td>\n",
       "      <td>Very pleased</td>\n",
       "      <td>0.0</td>\n",
       "    </tr>\n",
       "    <tr>\n",
       "      <th>3</th>\n",
       "      <td>\"CLEAR CLEAN ESN\" Sprint EPIC 4G Galaxy SPH-D7...</td>\n",
       "      <td>Samsung</td>\n",
       "      <td>199.99</td>\n",
       "      <td>4</td>\n",
       "      <td>It works good but it goes slow sometimes but i...</td>\n",
       "      <td>0.0</td>\n",
       "    </tr>\n",
       "    <tr>\n",
       "      <th>4</th>\n",
       "      <td>\"CLEAR CLEAN ESN\" Sprint EPIC 4G Galaxy SPH-D7...</td>\n",
       "      <td>Samsung</td>\n",
       "      <td>199.99</td>\n",
       "      <td>4</td>\n",
       "      <td>Great phone to replace my lost phone. The only...</td>\n",
       "      <td>0.0</td>\n",
       "    </tr>\n",
       "  </tbody>\n",
       "</table>\n",
       "</div>"
      ],
      "text/plain": [
       "                                        Product Name Brand Name   Price  \\\n",
       "0  \"CLEAR CLEAN ESN\" Sprint EPIC 4G Galaxy SPH-D7...    Samsung  199.99   \n",
       "1  \"CLEAR CLEAN ESN\" Sprint EPIC 4G Galaxy SPH-D7...    Samsung  199.99   \n",
       "2  \"CLEAR CLEAN ESN\" Sprint EPIC 4G Galaxy SPH-D7...    Samsung  199.99   \n",
       "3  \"CLEAR CLEAN ESN\" Sprint EPIC 4G Galaxy SPH-D7...    Samsung  199.99   \n",
       "4  \"CLEAR CLEAN ESN\" Sprint EPIC 4G Galaxy SPH-D7...    Samsung  199.99   \n",
       "\n",
       "   Rating                                            Reviews  Review Votes  \n",
       "0       5  I feel so LUCKY to have found this used (phone...           1.0  \n",
       "1       4  nice phone, nice up grade from my pantach revu...           0.0  \n",
       "2       5                                       Very pleased           0.0  \n",
       "3       4  It works good but it goes slow sometimes but i...           0.0  \n",
       "4       4  Great phone to replace my lost phone. The only...           0.0  "
      ]
     },
     "execution_count": 30,
     "metadata": {},
     "output_type": "execute_result"
    }
   ],
   "source": [
    "reviews = pd.read_csv('./Amazon_Unlocked_Mobile.csv')\n",
    "reviews.head()"
   ]
  },
  {
   "cell_type": "markdown",
   "metadata": {},
   "source": [
    "Looks pretty clean, so we convert the Rating label as greater than 3 for positive and less than 3 for negative. For the time being, we would be leaving the 3 ratings(Though we could later classify them as positive or negative)."
   ]
  },
  {
   "cell_type": "code",
   "execution_count": 31,
   "metadata": {},
   "outputs": [
    {
     "data": {
      "text/plain": [
       "Product Name    413840\n",
       "Brand Name      348669\n",
       "Price           407907\n",
       "Rating          413840\n",
       "Reviews         413778\n",
       "Review Votes    401544\n",
       "dtype: int64"
      ]
     },
     "execution_count": 31,
     "metadata": {},
     "output_type": "execute_result"
    }
   ],
   "source": [
    "reviews.count()"
   ]
  },
  {
   "cell_type": "code",
   "execution_count": 32,
   "metadata": {},
   "outputs": [],
   "source": [
    "reviews.dropna(inplace=True)\n",
    "reviews['Positively Rated'] = np.where(reviews['Rating'] > 3, 1, 0)"
   ]
  },
  {
   "cell_type": "code",
   "execution_count": 33,
   "metadata": {},
   "outputs": [],
   "source": [
    "reviews = reviews[reviews['Rating'] != 3]"
   ]
  },
  {
   "cell_type": "code",
   "execution_count": 36,
   "metadata": {},
   "outputs": [
    {
     "data": {
      "text/html": [
       "<div>\n",
       "<style scoped>\n",
       "    .dataframe tbody tr th:only-of-type {\n",
       "        vertical-align: middle;\n",
       "    }\n",
       "\n",
       "    .dataframe tbody tr th {\n",
       "        vertical-align: top;\n",
       "    }\n",
       "\n",
       "    .dataframe thead th {\n",
       "        text-align: right;\n",
       "    }\n",
       "</style>\n",
       "<table border=\"1\" class=\"dataframe\">\n",
       "  <thead>\n",
       "    <tr style=\"text-align: right;\">\n",
       "      <th></th>\n",
       "      <th>Product Name</th>\n",
       "      <th>Brand Name</th>\n",
       "      <th>Price</th>\n",
       "      <th>Rating</th>\n",
       "      <th>Reviews</th>\n",
       "      <th>Review Votes</th>\n",
       "      <th>Positively Rated</th>\n",
       "    </tr>\n",
       "  </thead>\n",
       "  <tbody>\n",
       "    <tr>\n",
       "      <th>171807</th>\n",
       "      <td>CNPGD [U.S. Warranty] All-in-1 Smartwatch and ...</td>\n",
       "      <td>CNPGD</td>\n",
       "      <td>49.99</td>\n",
       "      <td>5</td>\n",
       "      <td>Works great will do business again</td>\n",
       "      <td>0.0</td>\n",
       "      <td>1</td>\n",
       "    </tr>\n",
       "    <tr>\n",
       "      <th>318856</th>\n",
       "      <td>Samsung Galaxy J7 J700M 16GB Dual Sim LTE Unlo...</td>\n",
       "      <td>Samsung</td>\n",
       "      <td>227.14</td>\n",
       "      <td>4</td>\n",
       "      <td>Ok so I thought I did all of my research befor...</td>\n",
       "      <td>2.0</td>\n",
       "      <td>1</td>\n",
       "    </tr>\n",
       "    <tr>\n",
       "      <th>249771</th>\n",
       "      <td>Motorola KRZR K1 Unlocked Phone with 2 MP Came...</td>\n",
       "      <td>Motorola</td>\n",
       "      <td>44.00</td>\n",
       "      <td>5</td>\n",
       "      <td>Very happy with this purchase. The phone does ...</td>\n",
       "      <td>0.0</td>\n",
       "      <td>1</td>\n",
       "    </tr>\n",
       "    <tr>\n",
       "      <th>321439</th>\n",
       "      <td>Samsung Galaxy Mega 6.3 I527 16GB Unlocked GSM...</td>\n",
       "      <td>Samsung</td>\n",
       "      <td>304.99</td>\n",
       "      <td>1</td>\n",
       "      <td>Would have given it 5 stars had I not had to g...</td>\n",
       "      <td>1.0</td>\n",
       "      <td>0</td>\n",
       "    </tr>\n",
       "    <tr>\n",
       "      <th>171165</th>\n",
       "      <td>CNPGD [U.S. Warranty] All-in-1 Smartwatch and ...</td>\n",
       "      <td>CNPGD</td>\n",
       "      <td>49.99</td>\n",
       "      <td>1</td>\n",
       "      <td>I like the style but i can't get it to synchro...</td>\n",
       "      <td>0.0</td>\n",
       "      <td>0</td>\n",
       "    </tr>\n",
       "    <tr>\n",
       "      <th>270190</th>\n",
       "      <td>Nokia Lumia 820 8GB GSM 4G LTE Windows 8 Smart...</td>\n",
       "      <td>Nokia</td>\n",
       "      <td>99.99</td>\n",
       "      <td>1</td>\n",
       "      <td>Was unworking from the gitgo. Sent back.</td>\n",
       "      <td>0.0</td>\n",
       "      <td>0</td>\n",
       "    </tr>\n",
       "    <tr>\n",
       "      <th>306802</th>\n",
       "      <td>Samsung Galaxy Ace 2 i8160 Black Factory Unloc...</td>\n",
       "      <td>Samsung</td>\n",
       "      <td>99.99</td>\n",
       "      <td>2</td>\n",
       "      <td>Given the great reviews on this phone I felt c...</td>\n",
       "      <td>1.0</td>\n",
       "      <td>0</td>\n",
       "    </tr>\n",
       "    <tr>\n",
       "      <th>90675</th>\n",
       "      <td>BlackBerry Classic Factory Unlocked Cellphone,...</td>\n",
       "      <td>BlackBerry</td>\n",
       "      <td>149.99</td>\n",
       "      <td>5</td>\n",
       "      <td>Awesome phone...better than I expected :)</td>\n",
       "      <td>2.0</td>\n",
       "      <td>1</td>\n",
       "    </tr>\n",
       "    <tr>\n",
       "      <th>212262</th>\n",
       "      <td>LG Electronics LG G3 D855 16GB Unlocked Cell P...</td>\n",
       "      <td>LG Electronics</td>\n",
       "      <td>249.00</td>\n",
       "      <td>4</td>\n",
       "      <td>I had a Galaxy S2 before this phone and strugg...</td>\n",
       "      <td>48.0</td>\n",
       "      <td>1</td>\n",
       "    </tr>\n",
       "    <tr>\n",
       "      <th>263737</th>\n",
       "      <td>Nokia C3-00 Unlocked Cell Phone with QWERTY, D...</td>\n",
       "      <td>Nokia</td>\n",
       "      <td>269.10</td>\n",
       "      <td>5</td>\n",
       "      <td>My old flip phone was behaving strangely, so I...</td>\n",
       "      <td>4.0</td>\n",
       "      <td>1</td>\n",
       "    </tr>\n",
       "  </tbody>\n",
       "</table>\n",
       "</div>"
      ],
      "text/plain": [
       "                                             Product Name      Brand Name  \\\n",
       "171807  CNPGD [U.S. Warranty] All-in-1 Smartwatch and ...           CNPGD   \n",
       "318856  Samsung Galaxy J7 J700M 16GB Dual Sim LTE Unlo...         Samsung   \n",
       "249771  Motorola KRZR K1 Unlocked Phone with 2 MP Came...        Motorola   \n",
       "321439  Samsung Galaxy Mega 6.3 I527 16GB Unlocked GSM...         Samsung   \n",
       "171165  CNPGD [U.S. Warranty] All-in-1 Smartwatch and ...           CNPGD   \n",
       "270190  Nokia Lumia 820 8GB GSM 4G LTE Windows 8 Smart...           Nokia   \n",
       "306802  Samsung Galaxy Ace 2 i8160 Black Factory Unloc...         Samsung   \n",
       "90675   BlackBerry Classic Factory Unlocked Cellphone,...      BlackBerry   \n",
       "212262  LG Electronics LG G3 D855 16GB Unlocked Cell P...  LG Electronics   \n",
       "263737  Nokia C3-00 Unlocked Cell Phone with QWERTY, D...           Nokia   \n",
       "\n",
       "         Price  Rating                                            Reviews  \\\n",
       "171807   49.99       5                 Works great will do business again   \n",
       "318856  227.14       4  Ok so I thought I did all of my research befor...   \n",
       "249771   44.00       5  Very happy with this purchase. The phone does ...   \n",
       "321439  304.99       1  Would have given it 5 stars had I not had to g...   \n",
       "171165   49.99       1  I like the style but i can't get it to synchro...   \n",
       "270190   99.99       1           Was unworking from the gitgo. Sent back.   \n",
       "306802   99.99       2  Given the great reviews on this phone I felt c...   \n",
       "90675   149.99       5          Awesome phone...better than I expected :)   \n",
       "212262  249.00       4  I had a Galaxy S2 before this phone and strugg...   \n",
       "263737  269.10       5  My old flip phone was behaving strangely, so I...   \n",
       "\n",
       "        Review Votes  Positively Rated  \n",
       "171807           0.0                 1  \n",
       "318856           2.0                 1  \n",
       "249771           0.0                 1  \n",
       "321439           1.0                 0  \n",
       "171165           0.0                 0  \n",
       "270190           0.0                 0  \n",
       "306802           1.0                 0  \n",
       "90675            2.0                 1  \n",
       "212262          48.0                 1  \n",
       "263737           4.0                 1  "
      ]
     },
     "execution_count": 36,
     "metadata": {},
     "output_type": "execute_result"
    }
   ],
   "source": [
    "reviews.sample(10)"
   ]
  },
  {
   "cell_type": "code",
   "execution_count": 37,
   "metadata": {},
   "outputs": [
    {
     "data": {
      "text/plain": [
       "Product Name        308277\n",
       "Brand Name          308277\n",
       "Price               308277\n",
       "Rating              308277\n",
       "Reviews             308277\n",
       "Review Votes        308277\n",
       "Positively Rated    308277\n",
       "dtype: int64"
      ]
     },
     "execution_count": 37,
     "metadata": {},
     "output_type": "execute_result"
    }
   ],
   "source": [
    "reviews.count()"
   ]
  },
  {
   "cell_type": "markdown",
   "metadata": {},
   "source": [
    "Now that our data is cleaned, we can move on to analyzing the reviews. We would only be using the reviews and the newly made decision column for the reviews for the analysis."
   ]
  },
  {
   "cell_type": "code",
   "execution_count": 38,
   "metadata": {},
   "outputs": [
    {
     "data": {
      "text/plain": [
       "0.7482686025879323"
      ]
     },
     "execution_count": 38,
     "metadata": {},
     "output_type": "execute_result"
    }
   ],
   "source": [
    "reviews['Positively Rated'].mean()"
   ]
  },
  {
   "cell_type": "code",
   "execution_count": 40,
   "metadata": {},
   "outputs": [],
   "source": [
    "from sklearn.model_selection import train_test_split()"
   ]
  },
  {
   "cell_type": "code",
   "execution_count": 42,
   "metadata": {},
   "outputs": [],
   "source": [
    "X_train, X_test, y_train, y_test = train_test_split(reviews['Reviews'],reviews['Positively Rated'], random_state=42)"
   ]
  },
  {
   "cell_type": "markdown",
   "metadata": {},
   "source": [
    "Let's now convert reviews to a numerical representation that the models can utilize. We use CountVectorizer to carry out the tokenizing and counting aspect in one go. Normalising and weighting can be handled by us if needed (using Tf-idf)."
   ]
  },
  {
   "cell_type": "code",
   "execution_count": 39,
   "metadata": {},
   "outputs": [],
   "source": [
    "from sklearn.feature_extraction.text import CountVectorizer"
   ]
  },
  {
   "cell_type": "code",
   "execution_count": 43,
   "metadata": {},
   "outputs": [],
   "source": [
    "vectorizer = CountVectorizer().fit(X_train)"
   ]
  },
  {
   "cell_type": "code",
   "execution_count": 51,
   "metadata": {},
   "outputs": [
    {
     "data": {
      "text/plain": [
       "53438"
      ]
     },
     "execution_count": 51,
     "metadata": {},
     "output_type": "execute_result"
    }
   ],
   "source": [
    "len(vectorizer.get_feature_names())"
   ]
  },
  {
   "cell_type": "code",
   "execution_count": 52,
   "metadata": {},
   "outputs": [
    {
     "data": {
      "text/plain": [
       "['00',\n",
       " '975foiblesbattery',\n",
       " 'assertions',\n",
       " 'bumpers',\n",
       " 'conectarte',\n",
       " 'diabetic',\n",
       " 'estaré',\n",
       " 'furnace',\n",
       " 'huaweis',\n",
       " 'kindle',\n",
       " 'microsimcard',\n",
       " 'okwahts',\n",
       " 'ponerse',\n",
       " 'recovers',\n",
       " 'selback',\n",
       " 'stickers',\n",
       " 'tornado',\n",
       " 'voluntary']"
      ]
     },
     "execution_count": 52,
     "metadata": {},
     "output_type": "execute_result"
    }
   ],
   "source": [
    "vectorizer.get_feature_names()[::3000]"
   ]
  },
  {
   "cell_type": "code",
   "execution_count": 53,
   "metadata": {},
   "outputs": [
    {
     "data": {
      "text/plain": [
       "<231207x53438 sparse matrix of type '<class 'numpy.int64'>'\n",
       "\twith 6123196 stored elements in Compressed Sparse Row format>"
      ]
     },
     "execution_count": 53,
     "metadata": {},
     "output_type": "execute_result"
    }
   ],
   "source": [
    "X_train_vectorized = vectorizer.transform(X_train)\n",
    "X_train_vectorized"
   ]
  },
  {
   "cell_type": "code",
   "execution_count": 103,
   "metadata": {},
   "outputs": [],
   "source": [
    "from sklearn.svm import LinearSVC\n",
    "from sklearn.linear_model import LogisticRegression"
   ]
  },
  {
   "cell_type": "code",
   "execution_count": 104,
   "metadata": {},
   "outputs": [
    {
     "data": {
      "text/plain": [
       "LogisticRegression(C=1.0, class_weight=None, dual=False, fit_intercept=True,\n",
       "          intercept_scaling=1, max_iter=100, multi_class='ovr', n_jobs=1,\n",
       "          penalty='l2', random_state=None, solver='liblinear', tol=0.0001,\n",
       "          verbose=0, warm_start=False)"
      ]
     },
     "execution_count": 104,
     "metadata": {},
     "output_type": "execute_result"
    }
   ],
   "source": [
    "model = LogisticRegression()\n",
    "model.fit(X_train_vectorized, y_train)"
   ]
  },
  {
   "cell_type": "code",
   "execution_count": 105,
   "metadata": {},
   "outputs": [
    {
     "name": "stdout",
     "output_type": "stream",
     "text": [
      "0.9208909315442279\n"
     ]
    }
   ],
   "source": [
    "from sklearn.metrics import roc_auc_score\n",
    "\n",
    "predictions = model.predict(vectorizer.transform(X_test))\n",
    "print(roc_auc_score(y_test, predictions))"
   ]
  },
  {
   "cell_type": "markdown",
   "metadata": {},
   "source": [
    "We got a pretty decent score. Do note that **any words that appeared in X_test that didn't appear in X_train will be ignored.**"
   ]
  },
  {
   "cell_type": "markdown",
   "metadata": {},
   "source": [
    "Let's see the top features for predictions of either case."
   ]
  },
  {
   "cell_type": "code",
   "execution_count": 106,
   "metadata": {},
   "outputs": [
    {
     "name": "stdout",
     "output_type": "stream",
     "text": [
      "Largest coefficients:['perfect' 'perfecto' 'amazing' 'love' 'loves' 'exelente' 'loving'\n",
      " 'excellent' 'excelente' 'excelent']\n",
      "Smallest coefficients:['worst' 'worthless' 'junk' 'false' 'mony' 'garbage' 'horrible' 'terrible'\n",
      " 'useless' 'nope']\n"
     ]
    }
   ],
   "source": [
    "sort_index = model.coef_[0].argsort()\n",
    "feature_names = np.array(vectorizer.get_feature_names())\n",
    "print(\"Largest coefficients:{}\".format(feature_names[sort_index[-10:]]))\n",
    "print(\"Smallest coefficients:{}\".format(feature_names[sort_index[:10]]))"
   ]
  },
  {
   "cell_type": "markdown",
   "metadata": {},
   "source": [
    "argsort() = *yahan pe aana chahiye original array ke ye wala element*"
   ]
  },
  {
   "cell_type": "code",
   "execution_count": 107,
   "metadata": {},
   "outputs": [
    {
     "name": "stdout",
     "output_type": "stream",
     "text": [
      "0.936742901145614\n",
      "Largest coefficients:['disastrous' 'saturated' 'excelent' 'spire' 'sis' 'blockedand' 'ofamanda'\n",
      " '4eeeks' 'emoticon' 'talkin']\n",
      "Smallest coefficients:['rejecting' 'screams' 'downloas' 'reviewphysical' 'mony' 'timethe'\n",
      " 'theory' '7yr' 'avoiding' 'uncouple']\n"
     ]
    }
   ],
   "source": [
    "svc = LinearSVC()\n",
    "svc.fit(X_train_vectorized, y_train)\n",
    "from sklearn.metrics import roc_auc_score\n",
    "\n",
    "predictions = svc.predict(vectorizer.transform(X_test))\n",
    "print(roc_auc_score(y_test, predictions))\n",
    "\n",
    "sort_index = svc.coef_[0].argsort()\n",
    "feature_names = np.array(vectorizer.get_feature_names())\n",
    "print(\"Largest coefficients:{}\".format(feature_names[sort_index[-10:]]))\n",
    "print(\"Smallest coefficients:{}\".format(feature_names[sort_index[:10]]))"
   ]
  },
  {
   "cell_type": "markdown",
   "metadata": {},
   "source": [
    "We note that LinearSVC, while giving better results, is not really an interpretable model."
   ]
  },
  {
   "cell_type": "markdown",
   "metadata": {},
   "source": [
    "Tf-idf(Term frequency inverse-document-frequency) is a way for vectorizing, which gives low weight to those terms that occur frequently in all documents, as compared to those which appear more only in specific documents and are defining features of those documents."
   ]
  },
  {
   "cell_type": "code",
   "execution_count": 109,
   "metadata": {},
   "outputs": [],
   "source": [
    "from sklearn.feature_extraction.text import TfidfVectorizer"
   ]
  },
  {
   "cell_type": "code",
   "execution_count": 110,
   "metadata": {},
   "outputs": [],
   "source": [
    "vect = TfidfVectorizer(min_df=5).fit(X_train) #only those features that appear in 5 documents or more."
   ]
  },
  {
   "cell_type": "code",
   "execution_count": 111,
   "metadata": {},
   "outputs": [
    {
     "data": {
      "text/plain": [
       "17989"
      ]
     },
     "execution_count": 111,
     "metadata": {},
     "output_type": "execute_result"
    }
   ],
   "source": [
    "len(vect.get_feature_names())"
   ]
  },
  {
   "cell_type": "code",
   "execution_count": 112,
   "metadata": {},
   "outputs": [],
   "source": [
    "X_train_vect = vect.transform(X_train)\n",
    "X_test_vect = vect.transform(X_test)"
   ]
  },
  {
   "cell_type": "code",
   "execution_count": 114,
   "metadata": {},
   "outputs": [
    {
     "data": {
      "text/plain": [
       "LinearSVC(C=1.0, class_weight=None, dual=True, fit_intercept=True,\n",
       "     intercept_scaling=1, loss='squared_hinge', max_iter=1000,\n",
       "     multi_class='ovr', penalty='l2', random_state=None, tol=0.0001,\n",
       "     verbose=0)"
      ]
     },
     "execution_count": 114,
     "metadata": {},
     "output_type": "execute_result"
    }
   ],
   "source": [
    "model.fit(X_train_vect, y_train)\n",
    "svc.fit(X_train_vect, y_train)"
   ]
  },
  {
   "cell_type": "code",
   "execution_count": 116,
   "metadata": {},
   "outputs": [
    {
     "name": "stdout",
     "output_type": "stream",
     "text": [
      "Logistic Regression:0.926701445245822\n",
      "SVC:0.9350900501379037\n"
     ]
    }
   ],
   "source": [
    "predictions_logreg = model.predict(X_test_vect)\n",
    "print(\"Logistic Regression:{}\".format(roc_auc_score(y_test, predictions_logreg)))\n",
    "\n",
    "predictions_svc = svc.predict(X_test_vect)\n",
    "print(\"SVC:{}\".format(roc_auc_score(y_test, predictions_svc)))"
   ]
  },
  {
   "cell_type": "code",
   "execution_count": 119,
   "metadata": {},
   "outputs": [
    {
     "name": "stdout",
     "output_type": "stream",
     "text": [
      "Largest coefficients:['perfectly' 'loves' 'best' 'awesome' 'easy' 'amazing' 'perfect'\n",
      " 'excellent' 'great' 'love']\n",
      "Smallest coefficients:['not' 'worst' 'terrible' 'return' 'useless' 'waste' 'disappointed' 'poor'\n",
      " 'horrible' 'returning']\n"
     ]
    }
   ],
   "source": [
    "sort_index = model.coef_[0].argsort()\n",
    "feature_names = np.array(vect.get_feature_names())\n",
    "print(\"Largest coefficients:{}\".format(feature_names[sort_index[-10:]]))\n",
    "print(\"Smallest coefficients:{}\".format(feature_names[sort_index[:10]]))"
   ]
  },
  {
   "cell_type": "code",
   "execution_count": 120,
   "metadata": {},
   "outputs": [
    {
     "name": "stdout",
     "output_type": "stream",
     "text": [
      "Largest coefficients:['loving' 'returnyou' 'loves' 'perfect' 'amazing' 'flawlessly' '4eeeks'\n",
      " 'great' 'love' 'excelent']\n",
      "Smallest coefficients:['worst' 'mony' 'not' 'lemon' 'useless' 'false' 'nope' 'scammed'\n",
      " 'unsatisfied' 'paperweight']\n"
     ]
    }
   ],
   "source": [
    "sort_index = svc.coef_[0].argsort()\n",
    "feature_names = np.array(vect.get_feature_names())\n",
    "print(\"Largest coefficients:{}\".format(feature_names[sort_index[-10:]]))\n",
    "print(\"Smallest coefficients:{}\".format(feature_names[sort_index[:10]]))"
   ]
  },
  {
   "cell_type": "markdown",
   "metadata": {},
   "source": [
    "We can include 2 or 3(max) word combinations for analysis too, see if that improves accuracy. Because currently:"
   ]
  },
  {
   "cell_type": "code",
   "execution_count": 127,
   "metadata": {},
   "outputs": [
    {
     "data": {
      "text/plain": [
       "array([0, 0])"
      ]
     },
     "execution_count": 127,
     "metadata": {},
     "output_type": "execute_result"
    }
   ],
   "source": [
    "svc.predict(vect.transform(['Not an issue, phone is working.','Issue, phone is not working.']))"
   ]
  },
  {
   "cell_type": "markdown",
   "metadata": {},
   "source": [
    "They both are negative reviews, which is wrong!"
   ]
  },
  {
   "cell_type": "code",
   "execution_count": 129,
   "metadata": {},
   "outputs": [],
   "source": [
    "#So,\n",
    "vect = TfidfVectorizer(ngram_range=(1,2), min_df=5).fit(X_train)"
   ]
  },
  {
   "cell_type": "code",
   "execution_count": 130,
   "metadata": {},
   "outputs": [
    {
     "name": "stdout",
     "output_type": "stream",
     "text": [
      "Logistic Regression:0.9488645714453975\n",
      "SVC:0.9689819614190661\n"
     ]
    }
   ],
   "source": [
    "X_train_vect = vect.transform(X_train)\n",
    "X_test_vect = vect.transform(X_test)\n",
    "\n",
    "model.fit(X_train_vect, y_train)\n",
    "svc.fit(X_train_vect, y_train)\n",
    "\n",
    "predictions_logreg = model.predict(X_test_vect)\n",
    "print(\"Logistic Regression:{}\".format(roc_auc_score(y_test, predictions_logreg)))\n",
    "\n",
    "predictions_svc = svc.predict(X_test_vect)\n",
    "print(\"SVC:{}\".format(roc_auc_score(y_test, predictions_svc)))"
   ]
  },
  {
   "cell_type": "code",
   "execution_count": 131,
   "metadata": {},
   "outputs": [
    {
     "data": {
      "text/plain": [
       "array([1, 0])"
      ]
     },
     "execution_count": 131,
     "metadata": {},
     "output_type": "execute_result"
    }
   ],
   "source": [
    "svc.predict(vect.transform(['Not an issue, phone is working.','Issue, phone is not working.']))"
   ]
  },
  {
   "cell_type": "markdown",
   "metadata": {},
   "source": [
    "Voila!"
   ]
  },
  {
   "cell_type": "code",
   "execution_count": 132,
   "metadata": {},
   "outputs": [
    {
     "name": "stdout",
     "output_type": "stream",
     "text": [
      "Largest coefficients:['awesome' 'love this' 'no problems' 'best' 'not bad' 'amazing'\n",
      " 'excellent' 'perfect' 'love' 'great']\n",
      "Smallest coefficients:['not' 'disappointed' 'worst' 'poor' 'return' 'terrible' 'horrible'\n",
      " 'doesn' 'slow' 'broken']\n"
     ]
    }
   ],
   "source": [
    "sort_index = model.coef_[0].argsort()\n",
    "feature_names = np.array(vect.get_feature_names())\n",
    "print(\"Largest coefficients:{}\".format(feature_names[sort_index[-10:]]))\n",
    "print(\"Smallest coefficients:{}\".format(feature_names[sort_index[:10]]))"
   ]
  },
  {
   "cell_type": "markdown",
   "metadata": {},
   "source": [
    "We see compound words, which is a bonus."
   ]
  },
  {
   "cell_type": "markdown",
   "metadata": {},
   "source": [
    "Hence, we have carried a basic analysis of NLP, and seen how it is done.\n",
    "Cheers!"
   ]
  },
  {
   "cell_type": "code",
   "execution_count": null,
   "metadata": {},
   "outputs": [],
   "source": []
  }
 ],
 "metadata": {
  "kernelspec": {
   "display_name": "Python 3",
   "language": "python",
   "name": "python3"
  },
  "language_info": {
   "codemirror_mode": {
    "name": "ipython",
    "version": 3
   },
   "file_extension": ".py",
   "mimetype": "text/x-python",
   "name": "python",
   "nbconvert_exporter": "python",
   "pygments_lexer": "ipython3",
   "version": "3.6.5"
  }
 },
 "nbformat": 4,
 "nbformat_minor": 2
}
